{
 "cells": [
  {
   "cell_type": "code",
   "execution_count": 1,
   "metadata": {},
   "outputs": [],
   "source": [
    "# make sure the filepath starts at the correct entry point\n",
    "import os\n",
    "if not 'workbookDir' in globals():\n",
    "    workbookDir = os.getcwd()"
   ]
  },
  {
   "cell_type": "markdown",
   "metadata": {},
   "source": [
    "<a id=\"top\"></a>\n",
    "# Introduction to Python - Part 2\n",
    "\n",
    "Written by Emanuel Ehmki, currently PhD Student in the group of [Prof. Rarey at the University of Hamburg](https://www.zbh.uni-hamburg.de/forschung/amd.html)\n",
    "\n",
    "This Notebook is designed to give total beginners in programming the tools to quickly work on their own projects. It is used in workshops for natural scientists (master students and graduate students). It is not meant to be used for self studying.\n",
    "\n"
   ]
  },
  {
   "cell_type": "markdown",
   "metadata": {},
   "source": [
    "## First Steps in Python\n",
    "\n",
    "In the first part of this Python crash course we covered:\n",
    "\n",
    " - Variables\n",
    "   * Types\n",
    "   * Naming Rules\n",
    " - Containers\n",
    "   * Lists\n",
    "   * Dictionaries\n",
    "   * Tuples\n",
    " - Strings\n",
    " - Conditionals\n",
    " - Loops\n",
    "\n",
    "<a id=\"contents\"></a>\n",
    "## Table of Contents\n",
    "\n",
    "\n",
    "  - [Functions](#functions)\n",
    "  - [Python Modules](#python-modules)\n",
    "    * [*math*](#math) for standard math operations\n",
    "    * [*numpy*](#numpy) for heavy calculations\n",
    "    * [*matplotlib*](#matplotlib) for plotting\n",
    "  - [File operations](#file-operations)\n",
    "\n",
    "  \n",
    "An exhaustive introduction to Python is given in the [book of Mark Lutz](http://shop.oreilly.com/product/0636920028154.do): *Learning Python \\[5th Ed.\\], O'Reilly Media, 2013, ISBN:978-1449355739*"
   ]
  },
  {
   "cell_type": "markdown",
   "metadata": {},
   "source": [
    "<a id=\"functions\"></a>\n",
    "## Functions\n",
    "[back to TOC](#contents)\n",
    "\n",
    "Functions are the simplest way to maximize code reuse, minimize redundancy, and to decompose your script/program into pieces with well defined roles. When you want to write a function you write the `def` keyword. This declares that what follows will have a certain pattern.\n",
    "```\n",
    "def name_of_function(param1, param2, param3, ..., paramN):\n",
    "    ...\n",
    "    return ...\n",
    "```\n",
    " - `def` starts the function declaration\n",
    " - `name_of_function` tells Python under which name to store the function object\n",
    " - `param1, param2,...` are the parameters that you have to provide the function with when you call it\n",
    " - `...` is the function body. Here goes anything you wish, as long as its valid Python code\n",
    " - `return` this is what leaves the function\n",
    " \n",
    "A function can be thought of like a manufacture. Some well defined product arrives at the door of the manufacture. It is brought into the manufacture. Maybe it is reboxed to better fit the needs of the process within the manufacture. Something is done to the product. It's boxed again and leaves the manufacture in a different state than it arrived."
   ]
  },
  {
   "cell_type": "code",
   "execution_count": 2,
   "metadata": {},
   "outputs": [
    {
     "name": "stdout",
     "output_type": "stream",
     "text": [
      "Outside the function\n",
      "Inside the function\n"
     ]
    }
   ],
   "source": [
    "# first, we define a function. each definition ends with a colon.\n",
    "# this is a simple function without parameters and return statement\n",
    "def my_function():\n",
    "    print('Inside the function')\n",
    "\n",
    "print('Outside the function')\n",
    "# now call the function\n",
    "my_function()\n",
    "\n",
    "# during definition, the print statement is not processed. The empty line closes the function defintion.\n",
    "# Then, the 'Outside' print is executed. Only then do we call the 'my_function()' function and it's body\n",
    "# is executed."
   ]
  },
  {
   "cell_type": "code",
   "execution_count": 3,
   "metadata": {},
   "outputs": [
    {
     "name": "stdout",
     "output_type": "stream",
     "text": [
      "Got the parameters:\n",
      "\tbrand: Yamaha\n",
      "\tweight: 200\n",
      "\tcolor: blue\n",
      "Got the parameters:\n",
      "\tbrand: Ducati\n",
      "\tweight: 198\n",
      "\tcolor: red\n"
     ]
    }
   ],
   "source": [
    "# second, a function with parameters\n",
    "def my_function_with_params(brand, weight, color):\n",
    "    print('Got the parameters:\\n\\tbrand: {}\\n\\tweight: {}\\n\\tcolor: {}'.format(brand, weight, color))\n",
    "    \n",
    "# outside of the function\n",
    "brand_one = 'Yamaha'\n",
    "weight_one = 200\n",
    "color_one = 'blue'\n",
    "\n",
    "# call the function with predefined parameters\n",
    "my_function_with_params(brand_one, weight_one, color_one)\n",
    "# call the function with temporary parameters\n",
    "my_function_with_params('Ducati', 198, 'red')\n",
    "\n",
    "# as you can see, the parameter names 'brand', 'weight', 'color' are just placeholders\n",
    "# for something that is passed to the function when it's called. Those names are used\n",
    "# inside the function whenever something needs to be done with one of the three things\n",
    "# passed to the function"
   ]
  },
  {
   "cell_type": "code",
   "execution_count": 4,
   "metadata": {},
   "outputs": [
    {
     "name": "stdout",
     "output_type": "stream",
     "text": [
      "The sum is: 8\n",
      "The sum is: 3\n"
     ]
    }
   ],
   "source": [
    "# third, and last, we will define a function that takes in parameters and returns\n",
    "# a value that depends on the input parameters.\n",
    "def calc_sum(number_1, number_2):\n",
    "    mysum = number_1 + number_2\n",
    "    return mysum\n",
    "\n",
    "# define variables for number 1 and 2\n",
    "num1 = 3\n",
    "num2 = 5\n",
    "sum_of_num1_and_num2 = calc_sum(num1, num2)\n",
    "print('The sum is:', sum_of_num1_and_num2)\n",
    "\n",
    "# call the function with numbers 1 and 2 and directly print the result\n",
    "print('The sum is:', calc_sum(1,2))\n"
   ]
  },
  {
   "cell_type": "markdown",
   "metadata": {},
   "source": [
    "There are a few guidelines on for what you should write functions and how they should be:\n",
    " - a function should only have one task (e.g. calculate the sum of numbers)\n",
    " - you should be able to keep everthing that is written in a function in your mind at the same time"
   ]
  },
  {
   "cell_type": "markdown",
   "metadata": {},
   "source": [
    "<a id=\"python-modules\"></a>\n",
    "\n",
    "## Python Modules\n",
    "\n",
    "[back to TOC](#contents)\n",
    "    \n",
    "Whenever you use statements like `import` or `from` you are basically working with Python modules already. Usually a Python module is a Python program file. Sometimes it is an extension that is written in languages like C, Java or C#. Modules are a simple way of packaging code you write and use code that others have written.\n",
    "\n",
    "Many problems you have to solve have been solved by others already. Especially Python has a rich ecosystem of packages of code others have written that you can easlily use by *importing* their packages.\n",
    "\n",
    "We will have a look at three packages:\n",
    "  - [*math*](#math)\n",
    "  - [*numpy*](#numpy)\n",
    "  - [*matplotlib*](#matplotlib)"
   ]
  },
  {
   "cell_type": "markdown",
   "metadata": {},
   "source": [
    "<a id=\"math\"></a>\n",
    "\n",
    "### *math* Module\n",
    "\n",
    "The *math* module covers several functions that are useful when working scientificly with Python"
   ]
  },
  {
   "cell_type": "code",
   "execution_count": 5,
   "metadata": {},
   "outputs": [
    {
     "name": "stdout",
     "output_type": "stream",
     "text": [
      "Pi in Python is: 3.141592653589793\n"
     ]
    }
   ],
   "source": [
    "# import the functionality that is provided by the math module\n",
    "import math\n",
    "# working with pi?\n",
    "\n",
    "pi = math.pi \n",
    "\n",
    "# the dot notation specifies that we want to use the 'pi'\n",
    "# functionality from the module 'math'\n",
    "\n",
    "print('Pi in Python is:', pi)"
   ]
  },
  {
   "cell_type": "code",
   "execution_count": 6,
   "metadata": {},
   "outputs": [
    {
     "name": "stdout",
     "output_type": "stream",
     "text": [
      "2^x for x = 3: 8.0\n"
     ]
    }
   ],
   "source": [
    "#there are several other useful tools in the math package.\n",
    "# the power of\n",
    "print('2^x for x = 3:', math.pow(2,3))"
   ]
  },
  {
   "cell_type": "code",
   "execution_count": 7,
   "metadata": {},
   "outputs": [
    {
     "name": "stdout",
     "output_type": "stream",
     "text": [
      "e^x for x = 2: 7.38905609893065\n"
     ]
    }
   ],
   "source": [
    "# e function\n",
    "print('e^x for x = 2:', math.exp(2))"
   ]
  },
  {
   "cell_type": "code",
   "execution_count": 8,
   "metadata": {},
   "outputs": [
    {
     "name": "stdout",
     "output_type": "stream",
     "text": [
      "log(x) for x = 12: 2.4849066497880004\n"
     ]
    }
   ],
   "source": [
    "# log function\n",
    "print('log(x) for x = 12:', math.log(12))"
   ]
  },
  {
   "cell_type": "markdown",
   "metadata": {},
   "source": [
    "<a id=\"numpy\"></a>\n",
    "\n",
    "### *numpy* Module"
   ]
  },
  {
   "cell_type": "markdown",
   "metadata": {},
   "source": [
    "Taken from the [numpy website](https://numpy.org/):\n",
    "> NumPy is the fundamental package for scientific computing with Python. It contains among other things:\n",
    ">  * a powerful N-dimensional array object\n",
    ">  * sophisticated (broadcasting) functions\n",
    ">  * tools for integrating C/C++ and Fortran code\n",
    ">  * useful linear algebra, Fourier transform, and random number capabilities\n",
    ">\n",
    "> Besides its obvious scientific uses, NumPy can also be used as an efficient multi-dimensional container of generic data. Arbitrary data-types can be defined. This allows NumPy to seamlessly and speedily integrate with a wide variety of databases.\n",
    "\n",
    "In other words: one of the most useful and powerful modules in Python when it comes to data scientific tasks!"
   ]
  },
  {
   "cell_type": "code",
   "execution_count": 9,
   "metadata": {},
   "outputs": [
    {
     "name": "stdout",
     "output_type": "stream",
     "text": [
      "Matrix A:\n",
      " [[0 1 2]\n",
      " [3 4 5]\n",
      " [6 7 8]]\n"
     ]
    }
   ],
   "source": [
    "# conventionally some packages names are abbreviated\n",
    "import numpy as np\n",
    "\n",
    "# main object in numpy is a homogeneous multidimensional array\n",
    "# create an array (vector) with 15 elements\n",
    "A = np.arange(9)\n",
    "# rearange to a 3x3 matrix\n",
    "A = A.reshape(3, 3)\n",
    "print('Matrix A:\\n', A)"
   ]
  },
  {
   "cell_type": "code",
   "execution_count": 10,
   "metadata": {},
   "outputs": [
    {
     "name": "stdout",
     "output_type": "stream",
     "text": [
      "Matrix A with squared values:\n",
      " [[ 0  1  4]\n",
      " [ 9 16 25]\n",
      " [36 49 64]]\n"
     ]
    }
   ],
   "source": [
    "# some manipulation of the elements of matrix A:\n",
    "# square all elements\n",
    "print('Matrix A with squared values:\\n', A**2)"
   ]
  },
  {
   "cell_type": "code",
   "execution_count": 11,
   "metadata": {},
   "outputs": [
    {
     "name": "stdout",
     "output_type": "stream",
     "text": [
      "Matrix A with sin(x) values:\n",
      " [[ 0.          0.84147098  0.90929743]\n",
      " [ 0.14112001 -0.7568025  -0.95892427]\n",
      " [-0.2794155   0.6569866   0.98935825]]\n"
     ]
    }
   ],
   "source": [
    "# calculate trigonometrical functions of elements\n",
    "print('Matrix A with sin(x) values:\\n', np.sin(A))"
   ]
  },
  {
   "cell_type": "code",
   "execution_count": 12,
   "metadata": {},
   "outputs": [
    {
     "name": "stdout",
     "output_type": "stream",
     "text": [
      "Sum for each column:\n",
      " [ 9 12 15]\n"
     ]
    }
   ],
   "source": [
    "# calculate the sum of each column\n",
    "print('Sum for each column:\\n', A.sum(axis=0))"
   ]
  },
  {
   "cell_type": "code",
   "execution_count": 13,
   "metadata": {},
   "outputs": [
    {
     "name": "stdout",
     "output_type": "stream",
     "text": [
      "Matrix A:\n",
      " [[0 1 2]\n",
      " [3 4 5]\n",
      " [6 7 8]]\n",
      "Matrix B:\n",
      " [[ 5  7  9]\n",
      " [11 13 15]\n",
      " [17 19 21]]\n"
     ]
    }
   ],
   "source": [
    "# Matrix A\n",
    "print('Matrix A:\\n', A)\n",
    "# get another 3x3 matrix\n",
    "B = np.arange(5, 22, 2).reshape(3, 3)\n",
    "print('Matrix B:\\n', B)\n"
   ]
  },
  {
   "cell_type": "code",
   "execution_count": 14,
   "metadata": {},
   "outputs": [
    {
     "data": {
      "text/plain": [
       "array([[  0,   7,  18],\n",
       "       [ 33,  52,  75],\n",
       "       [102, 133, 168]])"
      ]
     },
     "execution_count": 14,
     "metadata": {},
     "output_type": "execute_result"
    }
   ],
   "source": [
    "# now do some calculations with the two matrices:\n",
    "# element wise product\n",
    "A * B"
   ]
  },
  {
   "cell_type": "code",
   "execution_count": 15,
   "metadata": {},
   "outputs": [
    {
     "data": {
      "text/plain": [
       "array([[ 45,  51,  57],\n",
       "       [144, 168, 192],\n",
       "       [243, 285, 327]])"
      ]
     },
     "execution_count": 15,
     "metadata": {},
     "output_type": "execute_result"
    }
   ],
   "source": [
    "# matrix dot product\n",
    "A @ B"
   ]
  },
  {
   "cell_type": "code",
   "execution_count": 16,
   "metadata": {},
   "outputs": [
    {
     "data": {
      "text/plain": [
       "array([[ 45,  51,  57],\n",
       "       [144, 168, 192],\n",
       "       [243, 285, 327]])"
      ]
     },
     "execution_count": 16,
     "metadata": {},
     "output_type": "execute_result"
    }
   ],
   "source": [
    "# matrix dot product (different notation)\n",
    "A.dot(B)"
   ]
  },
  {
   "cell_type": "markdown",
   "metadata": {},
   "source": [
    "The functionality shown is just a fraction of what *numpy* can be used for. Nonetheless, it gives a first look into what *numpy* is capable of. Also, *numpy* is the powerhouse on which many scientific libraries like *scipy* and *pandas* are build on."
   ]
  },
  {
   "cell_type": "markdown",
   "metadata": {},
   "source": [
    "<a id=\"matplotlib\"></a>\n",
    "\n",
    "### *matplotlib* Module\n",
    "\n",
    "The goto library in Python to create visualizations is *matplotlib*. It is a vast library that gives you a lot of power over how you want your plots to look like. It's vastness is a curse and a blessing. On the one hand, you can manipulate any part of you plot you can imagine, on the other hand, you will always have to search quite a large space of commands to find how to do that. Therefore, we will keep it simple in this example."
   ]
  },
  {
   "cell_type": "code",
   "execution_count": 17,
   "metadata": {},
   "outputs": [],
   "source": [
    "# creating a histogram with numpy and matplotlib\n",
    "import numpy as np\n",
    "# creating the part from matplotlib we need as plt\n",
    "import matplotlib.pyplot as plt\n",
    "x_values = np.arange(0, 40, 0.1)\n",
    "y_values = [math.sin(x) for x in x_values]"
   ]
  },
  {
   "cell_type": "code",
   "execution_count": 18,
   "metadata": {},
   "outputs": [
    {
     "data": {
      "image/png": "[encoded data removed]",
      "text/plain": [
       "<Figure size 432x288 with 1 Axes>"
      ]
     },
     "metadata": {
      "needs_background": "light"
     },
     "output_type": "display_data"
    }
   ],
   "source": [
    "plt.plot(x_values, y_values);"
   ]
  },
  {
   "cell_type": "code",
   "execution_count": 19,
   "metadata": {},
   "outputs": [
    {
     "data": {
      "image/png": "[encoded data removed]",
      "text/plain": [
       "<Figure size 432x288 with 1 Axes>"
      ]
     },
     "metadata": {
      "needs_background": "light"
     },
     "output_type": "display_data"
    }
   ],
   "source": [
    "plt.scatter(x_values, y_values);"
   ]
  },
  {
   "cell_type": "code",
   "execution_count": 20,
   "metadata": {},
   "outputs": [
    {
     "data": {
      "image/png": "[encoded data removed]",
      "text/plain": [
       "<Figure size 432x288 with 1 Axes>"
      ]
     },
     "metadata": {
      "needs_background": "light"
     },
     "output_type": "display_data"
    }
   ],
   "source": [
    "_ = plt.boxplot(y_values)"
   ]
  },
  {
   "cell_type": "code",
   "execution_count": 21,
   "metadata": {},
   "outputs": [
    {
     "data": {
      "image/png": "[encoded data removed]",
      "text/plain": [
       "<Figure size 432x288 with 1 Axes>"
      ]
     },
     "metadata": {
      "needs_background": "light"
     },
     "output_type": "display_data"
    }
   ],
   "source": [
    "# Build a vector of 10000 normal deviates with variance 0.5^2 and mean 2\n",
    "mu, sigma = 2, 0.5 # define mean and sigma\n",
    "v = np.random.normal(mu, sigma, 10000) # draw 10000 data points from the distribution\n",
    "# Plot a normalized histogram with 50 bins\n",
    "_ = plt.hist(v, bins=50, density=1) # storing it in _ reduces output"
   ]
  },
  {
   "cell_type": "code",
   "execution_count": 22,
   "metadata": {},
   "outputs": [
    {
     "data": {
      "image/png": "[encoded data removed]",
      "text/plain": [
       "<Figure size 432x288 with 1 Axes>"
      ]
     },
     "metadata": {
      "needs_background": "light"
     },
     "output_type": "display_data"
    }
   ],
   "source": [
    "plt.hist(v, bins=50, density=1)\n",
    "plt.ylabel('Density')\n",
    "plt.xlabel('Values')\n",
    "_ = plt.title('Histogram with 10k values drawn from  the normal distribution')"
   ]
  },
  {
   "cell_type": "markdown",
   "metadata": {},
   "source": [
    "There are several other types of plots that can be easily used with *matplotlib*. [Here](https://matplotlib.org/3.1.1/tutorials/introductory/pyplot.html) is the introductory page of the library. [This](https://matplotlib.org/gallery.html) page and [this](https://python-graph-gallery.com/matplotlib/) page give an overview of types of plots that are possible with *matplotlib*. For complex figures have a look at the [*seaborne*](https://seaborn.pydata.org/examples/index.html) module. It provides complex figures out of the box and is build on top of *matplotlib*."
   ]
  },
  {
   "cell_type": "markdown",
   "metadata": {},
   "source": [
    "The example blow is taken from the [*seaborn* gallery](https://seaborn.pydata.org/examples/structured_heatmap.html)."
   ]
  },
  {
   "cell_type": "code",
   "execution_count": 23,
   "metadata": {},
   "outputs": [
    {
     "data": {
      "image/png": "[encoded data removed]",
      "text/plain": [
       "<Figure size 936x936 with 6 Axes>"
      ]
     },
     "metadata": {},
     "output_type": "display_data"
    }
   ],
   "source": [
    "import pandas as pd\n",
    "import seaborn as sns\n",
    "sns.set()\n",
    "\n",
    "# Load the brain networks example dataset\n",
    "df = sns.load_dataset(\"brain_networks\", header=[0, 1, 2], index_col=0)\n",
    "\n",
    "# Select a subset of the networks\n",
    "used_networks = [1, 5, 6, 7, 8, 12, 13, 17]\n",
    "used_columns = (df.columns.get_level_values(\"network\")\n",
    "                          .astype(int)\n",
    "                          .isin(used_networks))\n",
    "df = df.loc[:, used_columns]\n",
    "\n",
    "# Create a categorical palette to identify the networks\n",
    "network_pal = sns.husl_palette(8, s=.45)\n",
    "network_lut = dict(zip(map(str, used_networks), network_pal))\n",
    "\n",
    "# Convert the palette to vectors that will be drawn on the side of the matrix\n",
    "networks = df.columns.get_level_values(\"network\")\n",
    "network_colors = pd.Series(networks, index=df.columns).map(network_lut)\n",
    "\n",
    "# Draw the full plot\n",
    "_ = sns.clustermap(df.corr(), center=0, cmap=\"vlag\",\n",
    "               row_colors=network_colors, col_colors=network_colors,\n",
    "               linewidths=.75, figsize=(13, 13))"
   ]
  },
  {
   "cell_type": "markdown",
   "metadata": {},
   "source": [
    "<a id=\"file-operations\"></a>\n",
    "## File Operations\n",
    "[back to TOC](#contents)\n",
    "\n",
    "Data that is manipulated can come from many sources. One of the most common is a file. Reading from files and writing to files can be achieved in different ways in Python.\n",
    "\n",
    "We will cover three ways:\n",
    "  - [Standard `open()`, `close()`](#open-close)\n",
    "  - [The `with` statement](#with-statement)\n",
    "  - [*pandas* module](#pandas-module)"
   ]
  },
  {
   "cell_type": "code",
   "execution_count": 24,
   "metadata": {},
   "outputs": [],
   "source": [
    "data_file = workbookDir + '/Data/input_for_loop_exercise.txt'"
   ]
  },
  {
   "cell_type": "markdown",
   "metadata": {},
   "source": [
    "<a id=\"open-close\"></a>\n",
    "### Standard `open()`, `close()`"
   ]
  },
  {
   "cell_type": "code",
   "execution_count": 25,
   "metadata": {},
   "outputs": [
    {
     "name": "stdout",
     "output_type": "stream",
     "text": [
      "<_io.TextIOWrapper name='/home/vagabond/codeprojects/github-cic-python-workshop/Data/input_for_loop_exercise.txt' mode='r' encoding='UTF-8'>\n"
     ]
    }
   ],
   "source": [
    "# open the path where we know that the file resides\n",
    "file = open(data_file, 'r')\n",
    "# check what we get as 'file'\n",
    "print(file)"
   ]
  },
  {
   "cell_type": "code",
   "execution_count": 26,
   "metadata": {},
   "outputs": [
    {
     "name": "stdout",
     "output_type": "stream",
     "text": [
      "#first line comment\n",
      "\n",
      "header1,header2,header3,header4\n",
      "\n"
     ]
    }
   ],
   "source": [
    "file = open(data_file, 'r')\n",
    "# obviously we need to do something with what we get as 'file'\n",
    "# in case you run this repeatedly uncomment the seek line\n",
    "print(file.readline())\n",
    "print(file.readline())"
   ]
  },
  {
   "cell_type": "code",
   "execution_count": 27,
   "metadata": {},
   "outputs": [
    {
     "name": "stdout",
     "output_type": "stream",
     "text": [
      "['#first line comment\\n', 'header1,header2,header3,header4\\n', '1,2,3,4\\n', '5,6,7,8\\n', '10,11,12,13\\n', '# last line comment\\n']\n"
     ]
    }
   ],
   "source": [
    "file = open(data_file, 'r')\n",
    "# reading each line by hand is pretty cumbersome\n",
    "# we can read the whole content of the file with one\n",
    "# statement and get a list of it's lines\n",
    "print(file.readlines())"
   ]
  },
  {
   "cell_type": "code",
   "execution_count": 28,
   "metadata": {},
   "outputs": [
    {
     "name": "stdout",
     "output_type": "stream",
     "text": [
      "#first line comment\n",
      "\n",
      "header1,header2,header3,header4\n",
      "\n",
      "1,2,3,4\n",
      "\n",
      "5,6,7,8\n",
      "\n",
      "10,11,12,13\n",
      "\n",
      "# last line comment\n",
      "\n"
     ]
    }
   ],
   "source": [
    "file = open(data_file, 'r')\n",
    "# or we simply iterate over the lines of the file\n",
    "for line in file:\n",
    "    print(line)"
   ]
  },
  {
   "cell_type": "code",
   "execution_count": 29,
   "metadata": {},
   "outputs": [
    {
     "name": "stdout",
     "output_type": "stream",
     "text": [
      "#first line comment\n",
      "header1,header2,header3,header4\n",
      "1,2,3,4\n",
      "5,6,7,8\n",
      "10,11,12,13\n",
      "# last line comment\n"
     ]
    }
   ],
   "source": [
    "file = open(data_file, 'r')\n",
    "# the empty lines come from the '\\n' characters that end each line\n",
    "# if we want them not printed, we need to strip them from each line\n",
    "for line in file:\n",
    "    print(line.strip('\\n'))"
   ]
  },
  {
   "cell_type": "markdown",
   "metadata": {},
   "source": [
    "We have covered the `open()` statement so far, what about the `close()` statement? There are several reasons why you should call the `close()` function on a file object. See [this](https://askubuntu.com/questions/701491/is-closing-a-file-after-having-opened-it-with-open-required-in-python) StackOverflow answer for some reasons."
   ]
  },
  {
   "cell_type": "code",
   "execution_count": 30,
   "metadata": {},
   "outputs": [
    {
     "name": "stdout",
     "output_type": "stream",
     "text": [
      "#first line comment\n",
      "header1,header2,header3,header4\n",
      "1,2,3,4\n",
      "5,6,7,8\n",
      "10,11,12,13\n",
      "# last line comment\n",
      "\n"
     ]
    }
   ],
   "source": [
    "# with our current tools we might do something like the following\n",
    "file = open(data_file, 'r')\n",
    "content = file.read()\n",
    "file.close()\n",
    "print(content)"
   ]
  },
  {
   "cell_type": "markdown",
   "metadata": {},
   "source": [
    "This is a totally valid piece of code. It has a few shortcommings, though. It would be saver if we would do something like this:\n"
   ]
  },
  {
   "cell_type": "code",
   "execution_count": 31,
   "metadata": {},
   "outputs": [
    {
     "name": "stdout",
     "output_type": "stream",
     "text": [
      "#first line comment\n",
      "header1,header2,header3,header4\n",
      "1,2,3,4\n",
      "5,6,7,8\n",
      "10,11,12,13\n",
      "# last line comment\n",
      "\n"
     ]
    }
   ],
   "source": [
    "try:\n",
    "    file = open(data_file, 'r')\n",
    "    content = file.read()\n",
    "except:\n",
    "    file.close()\n",
    "# in case all went well, the content is printed\n",
    "print(content)"
   ]
  },
  {
   "cell_type": "markdown",
   "metadata": {},
   "source": [
    "<a id=\"with-statement\"></a>\n",
    "### `with` Statement"
   ]
  },
  {
   "cell_type": "markdown",
   "metadata": {},
   "source": [
    "All the pitfalls shown above can be circumvented by using the `with` statement. An example can be found [here](https://pythontips.com/2014/01/15/the-open-function-explained/). The `with` statement takes care of the correct handling of all the background tasks like correclty closing the file in all cases."
   ]
  },
  {
   "cell_type": "code",
   "execution_count": 32,
   "metadata": {},
   "outputs": [
    {
     "name": "stdout",
     "output_type": "stream",
     "text": [
      "#first line comment\n",
      "header1,header2,header3,header4\n",
      "1,2,3,4\n",
      "5,6,7,8\n",
      "10,11,12,13\n",
      "# last line comment\n",
      "\n"
     ]
    }
   ],
   "source": [
    "with open(data_file, 'r') as file:\n",
    "    content = file.read()\n",
    "    print(content)    "
   ]
  },
  {
   "cell_type": "markdown",
   "metadata": {},
   "source": [
    "<a id=\"pandas-module\"></a>\n",
    "### *pandas* Module\n",
    "\n",
    "The *pandas* module provides an easy way to read well structured data like a CSV file (one like we have here)."
   ]
  },
  {
   "cell_type": "code",
   "execution_count": 33,
   "metadata": {},
   "outputs": [
    {
     "data": {
      "text/html": [
       "<div>\n",
       "<style scoped>\n",
       "    .dataframe tbody tr th:only-of-type {\n",
       "        vertical-align: middle;\n",
       "    }\n",
       "\n",
       "    .dataframe tbody tr th {\n",
       "        vertical-align: top;\n",
       "    }\n",
       "\n",
       "    .dataframe thead th {\n",
       "        text-align: right;\n",
       "    }\n",
       "</style>\n",
       "<table border=\"1\" class=\"dataframe\">\n",
       "  <thead>\n",
       "    <tr style=\"text-align: right;\">\n",
       "      <th></th>\n",
       "      <th>header1</th>\n",
       "      <th>header2</th>\n",
       "      <th>header3</th>\n",
       "      <th>header4</th>\n",
       "    </tr>\n",
       "  </thead>\n",
       "  <tbody>\n",
       "    <tr>\n",
       "      <th>0</th>\n",
       "      <td>1</td>\n",
       "      <td>2</td>\n",
       "      <td>3</td>\n",
       "      <td>4</td>\n",
       "    </tr>\n",
       "    <tr>\n",
       "      <th>1</th>\n",
       "      <td>5</td>\n",
       "      <td>6</td>\n",
       "      <td>7</td>\n",
       "      <td>8</td>\n",
       "    </tr>\n",
       "    <tr>\n",
       "      <th>2</th>\n",
       "      <td>10</td>\n",
       "      <td>11</td>\n",
       "      <td>12</td>\n",
       "      <td>13</td>\n",
       "    </tr>\n",
       "  </tbody>\n",
       "</table>\n",
       "</div>"
      ],
      "text/plain": [
       "   header1  header2  header3  header4\n",
       "0        1        2        3        4\n",
       "1        5        6        7        8\n",
       "2       10       11       12       13"
      ]
     },
     "execution_count": 33,
     "metadata": {},
     "output_type": "execute_result"
    }
   ],
   "source": [
    "import pandas as pd\n",
    "# the following line reads the file, skips the first and last line\n",
    "# and stores the content in a pandas 'dataframe' which is printed instantly here\n",
    "pd.read_csv(data_file, header=1, skipfooter=1, engine='python')"
   ]
  },
  {
   "cell_type": "markdown",
   "metadata": {},
   "source": [
    "## Final words\n",
    "\n",
    "This is just the beginning. The best way to learn a programming language is to find a project you are passionate about and to implement it in the programming language of your choice. Even better, the project simplifies or improves your day-to-day job. The list of resources in the README.md file at the repositories main page is a good start to further improve your knowledge of Python and it's modules. Happy coding!\n",
    "\n",
    "[back to top](#top)"
   ]
  }
 ],
 "metadata": {
  "anaconda-cloud": {},
  "kernelspec": {
   "display_name": "Python 3",
   "language": "python",
   "name": "python3"
  },
  "language_info": {
   "codemirror_mode": {
    "name": "ipython",
    "version": 3
   },
   "file_extension": ".py",
   "mimetype": "text/x-python",
   "name": "python",
   "nbconvert_exporter": "python",
   "pygments_lexer": "ipython3",
   "version": "3.8.0"
  }
 },
 "nbformat": 4,
 "nbformat_minor": 1
}
